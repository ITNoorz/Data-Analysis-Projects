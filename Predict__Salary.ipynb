{
  "cells": [
    {
      "cell_type": "code",
      "execution_count": null,
      "metadata": {
        "colab": {
          "base_uri": "https://localhost:8080/"
        },
        "id": "FM_h-mOSMCLk",
        "outputId": "38ab399d-5be3-48da-a31a-495d507d7cb4"
      },
      "outputs": [
        {
          "name": "stdout",
          "output_type": "stream",
          "text": [
            "Mounted at /content/drive\n"
          ]
        }
      ],
      "source": [
        "from google.colab import drive\n",
        "drive.mount('/content/drive')"
      ]
    },
    {
      "cell_type": "markdown",
      "metadata": {
        "id": "5eEadm_dMI-q"
      },
      "source": [
        "# Importing Libraries"
      ]
    },
    {
      "cell_type": "code",
      "execution_count": null,
      "metadata": {
        "id": "YYcNHRyOcE-8"
      },
      "outputs": [],
      "source": [
        "!pip install transformers"
      ]
    },
    {
      "cell_type": "code",
      "execution_count": null,
      "metadata": {
        "id": "zCiK3dsL3G5e"
      },
      "outputs": [],
      "source": [
        "# Import libraries\n",
        "\n",
        "import numpy as np # linear algebra\n",
        "import pandas as pd # data processing,\n",
        "\n",
        "# Libraries for data visualization\n",
        "import matplotlib.pyplot as plt\n",
        "import seaborn as sns\n",
        "from pandas.plotting import scatter_matrix\n",
        "import plotly.express as px\n",
        "\n",
        "# Import scikit_learn module for the algorithm/model: Linear Regression\n",
        "from sklearn.linear_model import LogisticRegression\n",
        "# Import scikit_learn module to split the dataset into train.test sub-datasets\n",
        "from sklearn.model_selection import train_test_split\n",
        "# Import scikit_learn module for k-fold cross validation\n",
        "from sklearn.model_selection import KFold\n",
        "from sklearn.model_selection import cross_val_score\n",
        "# import the metrics class\n",
        "from sklearn import metrics\n",
        "# import stats for accuracy\n",
        "import statsmodels.api as sm\n",
        "# Instantiate LabelEncoder\n",
        "\n",
        "from sklearn import preprocessing\n",
        "from sklearn.preprocessing import LabelEncoder\n",
        "import pickle\n",
        "\n",
        "from sklearn.metrics import mean_squared_error\n",
        "from sklearn.ensemble import RandomForestRegressor\n",
        "import joblib\n",
        "from sklearn.pipeline import make_pipeline\n",
        "from sklearn.preprocessing import StandardScaler\n",
        "from sklearn.pipeline import FeatureUnion\n",
        "from transformers import pipeline\n",
        "from sklearn.preprocessing import OneHotEncoder\n",
        "from tensorflow.keras.models import Sequential\n",
        "from tensorflow.keras.layers import Dense\n",
        "from sklearn.preprocessing import MinMaxScaler\n",
        "from tensorflow.keras.layers import LeakyReLU\n",
        "from tensorflow.keras.models import Model\n",
        "from tensorflow.keras.layers import Input\n",
        "from tensorflow.keras.layers import BatchNormalization\n",
        "from tensorflow.keras.models import load_model\n",
        "import plotly.graph_objects as go\n",
        "from sklearn.pipeline import Pipeline\n",
        "from sklearn.compose import ColumnTransformer\n",
        "from sklearn.metrics import mean_squared_error\n",
        "from sklearn.linear_model import LinearRegression\n",
        "from sklearn.svm import SVR\n",
        "from xgboost import XGBRegressor\n",
        "from lightgbm import LGBMRegressor"
      ]
    },
    {
      "cell_type": "code",
      "execution_count": null,
      "metadata": {
        "colab": {
          "base_uri": "https://localhost:8080/",
          "height": 206
        },
        "id": "9KUZlAHZbaZ-",
        "outputId": "e79f9a5d-8bff-472d-973b-0ac81e671a6c"
      },
      "outputs": [
        {
          "data": {
            "text/html": [
              "\n",
              "  <div id=\"df-f0ef41e2-65e6-4227-ad38-a8dbaa1df75c\">\n",
              "    <div class=\"colab-df-container\">\n",
              "      <div>\n",
              "<style scoped>\n",
              "    .dataframe tbody tr th:only-of-type {\n",
              "        vertical-align: middle;\n",
              "    }\n",
              "\n",
              "    .dataframe tbody tr th {\n",
              "        vertical-align: top;\n",
              "    }\n",
              "\n",
              "    .dataframe thead th {\n",
              "        text-align: right;\n",
              "    }\n",
              "</style>\n",
              "<table border=\"1\" class=\"dataframe\">\n",
              "  <thead>\n",
              "    <tr style=\"text-align: right;\">\n",
              "      <th></th>\n",
              "      <th>jobId</th>\n",
              "      <th>companyId</th>\n",
              "      <th>jobType</th>\n",
              "      <th>degree</th>\n",
              "      <th>major</th>\n",
              "      <th>industry</th>\n",
              "      <th>yearsExperience</th>\n",
              "      <th>milesFromMetropolis</th>\n",
              "      <th>salary</th>\n",
              "    </tr>\n",
              "  </thead>\n",
              "  <tbody>\n",
              "    <tr>\n",
              "      <th>0</th>\n",
              "      <td>JOB1362685006848</td>\n",
              "      <td>COMP14</td>\n",
              "      <td>MANAGER</td>\n",
              "      <td>MASTERS</td>\n",
              "      <td>MATH</td>\n",
              "      <td>FINANCE</td>\n",
              "      <td>24</td>\n",
              "      <td>36</td>\n",
              "      <td>158</td>\n",
              "    </tr>\n",
              "    <tr>\n",
              "      <th>1</th>\n",
              "      <td>JOB1362685403468</td>\n",
              "      <td>COMP36</td>\n",
              "      <td>JANITOR</td>\n",
              "      <td>NONE</td>\n",
              "      <td>NONE</td>\n",
              "      <td>FINANCE</td>\n",
              "      <td>3</td>\n",
              "      <td>4</td>\n",
              "      <td>73</td>\n",
              "    </tr>\n",
              "    <tr>\n",
              "      <th>2</th>\n",
              "      <td>JOB1362684563560</td>\n",
              "      <td>COMP56</td>\n",
              "      <td>MANAGER</td>\n",
              "      <td>HIGH_SCHOOL</td>\n",
              "      <td>NONE</td>\n",
              "      <td>SERVICE</td>\n",
              "      <td>11</td>\n",
              "      <td>23</td>\n",
              "      <td>103</td>\n",
              "    </tr>\n",
              "    <tr>\n",
              "      <th>3</th>\n",
              "      <td>JOB1362684814664</td>\n",
              "      <td>COMP28</td>\n",
              "      <td>JANITOR</td>\n",
              "      <td>NONE</td>\n",
              "      <td>NONE</td>\n",
              "      <td>EDUCATION</td>\n",
              "      <td>22</td>\n",
              "      <td>42</td>\n",
              "      <td>63</td>\n",
              "    </tr>\n",
              "    <tr>\n",
              "      <th>4</th>\n",
              "      <td>JOB1362685123815</td>\n",
              "      <td>COMP48</td>\n",
              "      <td>CEO</td>\n",
              "      <td>DOCTORAL</td>\n",
              "      <td>NONE</td>\n",
              "      <td>OIL</td>\n",
              "      <td>15</td>\n",
              "      <td>66</td>\n",
              "      <td>129</td>\n",
              "    </tr>\n",
              "  </tbody>\n",
              "</table>\n",
              "</div>\n",
              "      <button class=\"colab-df-convert\" onclick=\"convertToInteractive('df-f0ef41e2-65e6-4227-ad38-a8dbaa1df75c')\"\n",
              "              title=\"Convert this dataframe to an interactive table.\"\n",
              "              style=\"display:none;\">\n",
              "        \n",
              "  <svg xmlns=\"http://www.w3.org/2000/svg\" height=\"24px\"viewBox=\"0 0 24 24\"\n",
              "       width=\"24px\">\n",
              "    <path d=\"M0 0h24v24H0V0z\" fill=\"none\"/>\n",
              "    <path d=\"M18.56 5.44l.94 2.06.94-2.06 2.06-.94-2.06-.94-.94-2.06-.94 2.06-2.06.94zm-11 1L8.5 8.5l.94-2.06 2.06-.94-2.06-.94L8.5 2.5l-.94 2.06-2.06.94zm10 10l.94 2.06.94-2.06 2.06-.94-2.06-.94-.94-2.06-.94 2.06-2.06.94z\"/><path d=\"M17.41 7.96l-1.37-1.37c-.4-.4-.92-.59-1.43-.59-.52 0-1.04.2-1.43.59L10.3 9.45l-7.72 7.72c-.78.78-.78 2.05 0 2.83L4 21.41c.39.39.9.59 1.41.59.51 0 1.02-.2 1.41-.59l7.78-7.78 2.81-2.81c.8-.78.8-2.07 0-2.86zM5.41 20L4 18.59l7.72-7.72 1.47 1.35L5.41 20z\"/>\n",
              "  </svg>\n",
              "      </button>\n",
              "      \n",
              "  <style>\n",
              "    .colab-df-container {\n",
              "      display:flex;\n",
              "      flex-wrap:wrap;\n",
              "      gap: 12px;\n",
              "    }\n",
              "\n",
              "    .colab-df-convert {\n",
              "      background-color: #E8F0FE;\n",
              "      border: none;\n",
              "      border-radius: 50%;\n",
              "      cursor: pointer;\n",
              "      display: none;\n",
              "      fill: #1967D2;\n",
              "      height: 32px;\n",
              "      padding: 0 0 0 0;\n",
              "      width: 32px;\n",
              "    }\n",
              "\n",
              "    .colab-df-convert:hover {\n",
              "      background-color: #E2EBFA;\n",
              "      box-shadow: 0px 1px 2px rgba(60, 64, 67, 0.3), 0px 1px 3px 1px rgba(60, 64, 67, 0.15);\n",
              "      fill: #174EA6;\n",
              "    }\n",
              "\n",
              "    [theme=dark] .colab-df-convert {\n",
              "      background-color: #3B4455;\n",
              "      fill: #D2E3FC;\n",
              "    }\n",
              "\n",
              "    [theme=dark] .colab-df-convert:hover {\n",
              "      background-color: #434B5C;\n",
              "      box-shadow: 0px 1px 3px 1px rgba(0, 0, 0, 0.15);\n",
              "      filter: drop-shadow(0px 1px 2px rgba(0, 0, 0, 0.3));\n",
              "      fill: #FFFFFF;\n",
              "    }\n",
              "  </style>\n",
              "\n",
              "      <script>\n",
              "        const buttonEl =\n",
              "          document.querySelector('#df-f0ef41e2-65e6-4227-ad38-a8dbaa1df75c button.colab-df-convert');\n",
              "        buttonEl.style.display =\n",
              "          google.colab.kernel.accessAllowed ? 'block' : 'none';\n",
              "\n",
              "        async function convertToInteractive(key) {\n",
              "          const element = document.querySelector('#df-f0ef41e2-65e6-4227-ad38-a8dbaa1df75c');\n",
              "          const dataTable =\n",
              "            await google.colab.kernel.invokeFunction('convertToInteractive',\n",
              "                                                     [key], {});\n",
              "          if (!dataTable) return;\n",
              "\n",
              "          const docLinkHtml = 'Like what you see? Visit the ' +\n",
              "            '<a target=\"_blank\" href=https://colab.research.google.com/notebooks/data_table.ipynb>data table notebook</a>'\n",
              "            + ' to learn more about interactive tables.';\n",
              "          element.innerHTML = '';\n",
              "          dataTable['output_type'] = 'display_data';\n",
              "          await google.colab.output.renderOutput(dataTable, element);\n",
              "          const docLink = document.createElement('div');\n",
              "          docLink.innerHTML = docLinkHtml;\n",
              "          element.appendChild(docLink);\n",
              "        }\n",
              "      </script>\n",
              "    </div>\n",
              "  </div>\n",
              "  "
            ],
            "text/plain": [
              "              jobId companyId  jobType       degree major   industry  \\\n",
              "0  JOB1362685006848    COMP14  MANAGER      MASTERS  MATH    FINANCE   \n",
              "1  JOB1362685403468    COMP36  JANITOR         NONE  NONE    FINANCE   \n",
              "2  JOB1362684563560    COMP56  MANAGER  HIGH_SCHOOL  NONE    SERVICE   \n",
              "3  JOB1362684814664    COMP28  JANITOR         NONE  NONE  EDUCATION   \n",
              "4  JOB1362685123815    COMP48      CEO     DOCTORAL  NONE        OIL   \n",
              "\n",
              "   yearsExperience  milesFromMetropolis  salary  \n",
              "0               24                   36     158  \n",
              "1                3                    4      73  \n",
              "2               11                   23     103  \n",
              "3               22                   42      63  \n",
              "4               15                   66     129  "
            ]
          },
          "execution_count": 40,
          "metadata": {},
          "output_type": "execute_result"
        }
      ],
      "source": [
        "df=pd.read_csv('/content/drive/MyDrive/jobs_train.csv')\n",
        "#View the data\n",
        "df.head()"
      ]
    },
    {
      "cell_type": "markdown",
      "metadata": {
        "id": "zKnM96bMcuTI"
      },
      "source": [
        "## Exploratory data analysis (EDA)"
      ]
    },
    {
      "cell_type": "code",
      "execution_count": null,
      "metadata": {
        "colab": {
          "base_uri": "https://localhost:8080/"
        },
        "id": "fHLrEyDoENac",
        "outputId": "a44d7d99-b0ac-4cd4-e680-ec31ec0171c8"
      },
      "outputs": [
        {
          "data": {
            "text/plain": [
              "(900000, 9)"
            ]
          },
          "execution_count": 5,
          "metadata": {},
          "output_type": "execute_result"
        }
      ],
      "source": [
        "# data shape\n",
        "\n",
        "df.shape"
      ]
    },
    {
      "cell_type": "code",
      "execution_count": null,
      "metadata": {
        "colab": {
          "base_uri": "https://localhost:8080/",
          "height": 300
        },
        "id": "TFbFYKgo3f7D",
        "outputId": "522b05d2-494c-4f7d-a46f-e5962f0970f3"
      },
      "outputs": [
        {
          "data": {
            "text/html": [
              "\n",
              "  <div id=\"df-033e5b70-c605-4848-86c1-c25b300134ac\">\n",
              "    <div class=\"colab-df-container\">\n",
              "      <div>\n",
              "<style scoped>\n",
              "    .dataframe tbody tr th:only-of-type {\n",
              "        vertical-align: middle;\n",
              "    }\n",
              "\n",
              "    .dataframe tbody tr th {\n",
              "        vertical-align: top;\n",
              "    }\n",
              "\n",
              "    .dataframe thead th {\n",
              "        text-align: right;\n",
              "    }\n",
              "</style>\n",
              "<table border=\"1\" class=\"dataframe\">\n",
              "  <thead>\n",
              "    <tr style=\"text-align: right;\">\n",
              "      <th></th>\n",
              "      <th>yearsExperience</th>\n",
              "      <th>milesFromMetropolis</th>\n",
              "      <th>salary</th>\n",
              "    </tr>\n",
              "  </thead>\n",
              "  <tbody>\n",
              "    <tr>\n",
              "      <th>count</th>\n",
              "      <td>900000.000000</td>\n",
              "      <td>900000.000000</td>\n",
              "      <td>900000.000000</td>\n",
              "    </tr>\n",
              "    <tr>\n",
              "      <th>mean</th>\n",
              "      <td>11.991183</td>\n",
              "      <td>49.525906</td>\n",
              "      <td>116.067520</td>\n",
              "    </tr>\n",
              "    <tr>\n",
              "      <th>std</th>\n",
              "      <td>7.211222</td>\n",
              "      <td>28.883348</td>\n",
              "      <td>38.717799</td>\n",
              "    </tr>\n",
              "    <tr>\n",
              "      <th>min</th>\n",
              "      <td>0.000000</td>\n",
              "      <td>0.000000</td>\n",
              "      <td>0.000000</td>\n",
              "    </tr>\n",
              "    <tr>\n",
              "      <th>25%</th>\n",
              "      <td>6.000000</td>\n",
              "      <td>25.000000</td>\n",
              "      <td>88.000000</td>\n",
              "    </tr>\n",
              "    <tr>\n",
              "      <th>50%</th>\n",
              "      <td>12.000000</td>\n",
              "      <td>50.000000</td>\n",
              "      <td>114.000000</td>\n",
              "    </tr>\n",
              "    <tr>\n",
              "      <th>75%</th>\n",
              "      <td>18.000000</td>\n",
              "      <td>75.000000</td>\n",
              "      <td>141.000000</td>\n",
              "    </tr>\n",
              "    <tr>\n",
              "      <th>max</th>\n",
              "      <td>24.000000</td>\n",
              "      <td>99.000000</td>\n",
              "      <td>301.000000</td>\n",
              "    </tr>\n",
              "  </tbody>\n",
              "</table>\n",
              "</div>\n",
              "      <button class=\"colab-df-convert\" onclick=\"convertToInteractive('df-033e5b70-c605-4848-86c1-c25b300134ac')\"\n",
              "              title=\"Convert this dataframe to an interactive table.\"\n",
              "              style=\"display:none;\">\n",
              "        \n",
              "  <svg xmlns=\"http://www.w3.org/2000/svg\" height=\"24px\"viewBox=\"0 0 24 24\"\n",
              "       width=\"24px\">\n",
              "    <path d=\"M0 0h24v24H0V0z\" fill=\"none\"/>\n",
              "    <path d=\"M18.56 5.44l.94 2.06.94-2.06 2.06-.94-2.06-.94-.94-2.06-.94 2.06-2.06.94zm-11 1L8.5 8.5l.94-2.06 2.06-.94-2.06-.94L8.5 2.5l-.94 2.06-2.06.94zm10 10l.94 2.06.94-2.06 2.06-.94-2.06-.94-.94-2.06-.94 2.06-2.06.94z\"/><path d=\"M17.41 7.96l-1.37-1.37c-.4-.4-.92-.59-1.43-.59-.52 0-1.04.2-1.43.59L10.3 9.45l-7.72 7.72c-.78.78-.78 2.05 0 2.83L4 21.41c.39.39.9.59 1.41.59.51 0 1.02-.2 1.41-.59l7.78-7.78 2.81-2.81c.8-.78.8-2.07 0-2.86zM5.41 20L4 18.59l7.72-7.72 1.47 1.35L5.41 20z\"/>\n",
              "  </svg>\n",
              "      </button>\n",
              "      \n",
              "  <style>\n",
              "    .colab-df-container {\n",
              "      display:flex;\n",
              "      flex-wrap:wrap;\n",
              "      gap: 12px;\n",
              "    }\n",
              "\n",
              "    .colab-df-convert {\n",
              "      background-color: #E8F0FE;\n",
              "      border: none;\n",
              "      border-radius: 50%;\n",
              "      cursor: pointer;\n",
              "      display: none;\n",
              "      fill: #1967D2;\n",
              "      height: 32px;\n",
              "      padding: 0 0 0 0;\n",
              "      width: 32px;\n",
              "    }\n",
              "\n",
              "    .colab-df-convert:hover {\n",
              "      background-color: #E2EBFA;\n",
              "      box-shadow: 0px 1px 2px rgba(60, 64, 67, 0.3), 0px 1px 3px 1px rgba(60, 64, 67, 0.15);\n",
              "      fill: #174EA6;\n",
              "    }\n",
              "\n",
              "    [theme=dark] .colab-df-convert {\n",
              "      background-color: #3B4455;\n",
              "      fill: #D2E3FC;\n",
              "    }\n",
              "\n",
              "    [theme=dark] .colab-df-convert:hover {\n",
              "      background-color: #434B5C;\n",
              "      box-shadow: 0px 1px 3px 1px rgba(0, 0, 0, 0.15);\n",
              "      filter: drop-shadow(0px 1px 2px rgba(0, 0, 0, 0.3));\n",
              "      fill: #FFFFFF;\n",
              "    }\n",
              "  </style>\n",
              "\n",
              "      <script>\n",
              "        const buttonEl =\n",
              "          document.querySelector('#df-033e5b70-c605-4848-86c1-c25b300134ac button.colab-df-convert');\n",
              "        buttonEl.style.display =\n",
              "          google.colab.kernel.accessAllowed ? 'block' : 'none';\n",
              "\n",
              "        async function convertToInteractive(key) {\n",
              "          const element = document.querySelector('#df-033e5b70-c605-4848-86c1-c25b300134ac');\n",
              "          const dataTable =\n",
              "            await google.colab.kernel.invokeFunction('convertToInteractive',\n",
              "                                                     [key], {});\n",
              "          if (!dataTable) return;\n",
              "\n",
              "          const docLinkHtml = 'Like what you see? Visit the ' +\n",
              "            '<a target=\"_blank\" href=https://colab.research.google.com/notebooks/data_table.ipynb>data table notebook</a>'\n",
              "            + ' to learn more about interactive tables.';\n",
              "          element.innerHTML = '';\n",
              "          dataTable['output_type'] = 'display_data';\n",
              "          await google.colab.output.renderOutput(dataTable, element);\n",
              "          const docLink = document.createElement('div');\n",
              "          docLink.innerHTML = docLinkHtml;\n",
              "          element.appendChild(docLink);\n",
              "        }\n",
              "      </script>\n",
              "    </div>\n",
              "  </div>\n",
              "  "
            ],
            "text/plain": [
              "       yearsExperience  milesFromMetropolis         salary\n",
              "count    900000.000000        900000.000000  900000.000000\n",
              "mean         11.991183            49.525906     116.067520\n",
              "std           7.211222            28.883348      38.717799\n",
              "min           0.000000             0.000000       0.000000\n",
              "25%           6.000000            25.000000      88.000000\n",
              "50%          12.000000            50.000000     114.000000\n",
              "75%          18.000000            75.000000     141.000000\n",
              "max          24.000000            99.000000     301.000000"
            ]
          },
          "execution_count": 6,
          "metadata": {},
          "output_type": "execute_result"
        }
      ],
      "source": [
        "# Describe the data\n",
        "\n",
        "df.describe()"
      ]
    },
    {
      "cell_type": "code",
      "execution_count": null,
      "metadata": {
        "colab": {
          "base_uri": "https://localhost:8080/"
        },
        "id": "cs55IYYc57an",
        "outputId": "1c3025b1-2dcf-4556-a5d7-ae671f3f0b1b"
      },
      "outputs": [
        {
          "data": {
            "text/plain": [
              "0"
            ]
          },
          "execution_count": 7,
          "metadata": {},
          "output_type": "execute_result"
        }
      ],
      "source": [
        "# Find the duplicates\n",
        "\n",
        "df.duplicated().sum()"
      ]
    },
    {
      "cell_type": "code",
      "execution_count": null,
      "metadata": {
        "colab": {
          "base_uri": "https://localhost:8080/"
        },
        "id": "6rsX9ieS9BbT",
        "outputId": "b24ad4dc-c441-4606-ddde-5a696303ffb5"
      },
      "outputs": [
        {
          "data": {
            "text/plain": [
              "jobId                  0\n",
              "companyId              0\n",
              "jobType                0\n",
              "degree                 0\n",
              "major                  0\n",
              "industry               0\n",
              "yearsExperience        0\n",
              "milesFromMetropolis    0\n",
              "salary                 0\n",
              "dtype: int64"
            ]
          },
          "execution_count": 8,
          "metadata": {},
          "output_type": "execute_result"
        }
      ],
      "source": [
        "# Find null values\n",
        "\n",
        "df.isnull().sum()"
      ]
    },
    {
      "cell_type": "code",
      "execution_count": null,
      "metadata": {
        "colab": {
          "base_uri": "https://localhost:8080/"
        },
        "id": "SldwlJLfCLfu",
        "outputId": "fb631930-60a1-449d-be04-8d621d0f5bd3"
      },
      "outputs": [
        {
          "name": "stdout",
          "output_type": "stream",
          "text": [
            "<class 'pandas.core.frame.DataFrame'>\n",
            "RangeIndex: 900000 entries, 0 to 899999\n",
            "Data columns (total 9 columns):\n",
            " #   Column               Non-Null Count   Dtype \n",
            "---  ------               --------------   ----- \n",
            " 0   jobId                900000 non-null  object\n",
            " 1   companyId            900000 non-null  object\n",
            " 2   jobType              900000 non-null  object\n",
            " 3   degree               900000 non-null  object\n",
            " 4   major                900000 non-null  object\n",
            " 5   industry             900000 non-null  object\n",
            " 6   yearsExperience      900000 non-null  int64 \n",
            " 7   milesFromMetropolis  900000 non-null  int64 \n",
            " 8   salary               900000 non-null  int64 \n",
            "dtypes: int64(3), object(6)\n",
            "memory usage: 61.8+ MB\n"
          ]
        }
      ],
      "source": [
        "# get information about data\n",
        "\n",
        "df.info()"
      ]
    },
    {
      "cell_type": "code",
      "execution_count": null,
      "metadata": {
        "colab": {
          "base_uri": "https://localhost:8080/"
        },
        "id": "C7gAeVkfONoZ",
        "outputId": "84b57900-ffef-44c9-aa05-c33e63a73d92"
      },
      "outputs": [
        {
          "data": {
            "text/plain": [
              "jobId                  object\n",
              "companyId              object\n",
              "jobType                object\n",
              "degree                 object\n",
              "major                  object\n",
              "industry               object\n",
              "yearsExperience         int64\n",
              "milesFromMetropolis     int64\n",
              "salary                  int64\n",
              "dtype: object"
            ]
          },
          "execution_count": 10,
          "metadata": {},
          "output_type": "execute_result"
        }
      ],
      "source": [
        "# Datatypes\n",
        "\n",
        "df.dtypes"
      ]
    },
    {
      "cell_type": "code",
      "execution_count": null,
      "metadata": {
        "id": "8ASpPZddb3Q-"
      },
      "outputs": [],
      "source": [
        "# Remove unwanted chars to convert to float in next step\n",
        "\n",
        "df['jobId'] = df['jobId'].replace('JOB','', regex=True)\n"
      ]
    },
    {
      "cell_type": "code",
      "execution_count": null,
      "metadata": {
        "id": "ypkpuuDgb7cM"
      },
      "outputs": [],
      "source": [
        "# Convert object datatype from object to float\n",
        "\n",
        "for columnName,columnData in df[['jobId','yearsExperience','salary','milesFromMetropolis']].items():\n",
        "  df[columnName]=df[columnName].astype(float)"
      ]
    },
    {
      "cell_type": "code",
      "execution_count": null,
      "metadata": {
        "colab": {
          "base_uri": "https://localhost:8080/"
        },
        "id": "QWsf-fQHb8q-",
        "outputId": "caec0a4f-300e-4c2c-ae14-fed6a7d586c3"
      },
      "outputs": [
        {
          "data": {
            "text/plain": [
              "jobId                  float64\n",
              "companyId               object\n",
              "jobType                 object\n",
              "degree                  object\n",
              "major                   object\n",
              "industry                object\n",
              "yearsExperience        float64\n",
              "milesFromMetropolis    float64\n",
              "salary                 float64\n",
              "dtype: object"
            ]
          },
          "execution_count": 43,
          "metadata": {},
          "output_type": "execute_result"
        }
      ],
      "source": [
        "# Datatypes after procesing\n",
        "\n",
        "df.dtypes"
      ]
    },
    {
      "cell_type": "code",
      "execution_count": null,
      "metadata": {
        "colab": {
          "base_uri": "https://localhost:8080/"
        },
        "id": "SUtMte4Gb_Dr",
        "outputId": "68bfed31-2e1c-42fa-80d8-cc0245b85634"
      },
      "outputs": [
        {
          "name": "stdout",
          "output_type": "stream",
          "text": [
            "Column Name :  jobId\n",
            "Column unique values :  [1.36268501e+12 1.36268540e+12 1.36268456e+12 ... 1.36268540e+12\n",
            " 1.36268463e+12 1.36268492e+12]\n",
            "\n",
            "Column Name :  yearsExperience\n",
            "Column unique values :  [24.  3. 11. 22. 15.  1. 12. 13. 17. 10.  0. 16.  5. 14.  2.  9. 18. 19.\n",
            " 21. 23.  8.  6. 20.  4.  7.]\n",
            "\n",
            "Column Name :  milesFromMetropolis\n",
            "Column unique values :  [36.  4. 23. 42. 66. 51. 21. 96.  9. 74. 26.  0. 90. 61. 10. 71. 49. 41.\n",
            " 13. 95. 68. 67. 69. 44. 79. 37. 53.  1. 40. 63. 14. 57.  2. 98. 18. 91.\n",
            " 38.  8. 56. 16. 19. 54. 81. 48. 39. 15.  3. 62. 24. 12. 20.  5. 86. 45.\n",
            " 77. 28. 34. 30. 11. 55. 27. 99. 80. 47. 75. 76. 46. 89. 22. 87. 70. 59.\n",
            " 65. 52. 43. 25. 33.  7. 94. 73. 72. 31. 83. 35. 85. 88. 84. 29.  6. 60.\n",
            " 97. 82. 58. 92. 64. 50. 32. 93. 78. 17.]\n",
            "\n",
            "Column Name :  salary\n",
            "Column unique values :  [158.  73. 103.  63. 129. 169. 197. 110.  95.  81. 188. 231.  97. 181.\n",
            " 139.  80.  87. 163. 101.  61.  66. 174.  68. 115.  57. 104. 170.  99.\n",
            " 186. 183. 128. 152. 122.  74. 134.  79. 114.  50. 107. 130. 159. 105.\n",
            " 142. 166.  88. 141.  41. 118. 161. 153. 138. 167. 133. 157. 146. 120.\n",
            " 113.  69.  85. 148. 125.  92. 162. 165. 140. 221.  59.  94.  91. 119.\n",
            "  67. 156.  93.  44. 112.  55.  46. 116.  86. 199. 126. 179. 102.  64.\n",
            "  65.  47.  78. 124. 108.  75. 131. 145. 171. 177. 198.  53. 164.  72.\n",
            " 173.  56. 117. 187. 111.  96. 151. 127.  51. 178. 123.  58. 254. 175.\n",
            "  76. 135. 100. 194. 185. 147.  77. 149.  70.  90.  89. 200. 121. 106.\n",
            "  54. 155. 192.  82.  52.  84.  29. 168. 144.  98.  40. 150. 132. 176.\n",
            "  45. 154. 109. 184. 136. 143. 218.  27.  37.  34. 190.  83. 193. 205.\n",
            " 182. 201. 219. 196.  30.  49.  31. 204.  39. 172.  36. 180.  43. 137.\n",
            " 212. 211.  71. 216. 229.  28. 189.  62. 202. 160.  32. 208. 215.  33.\n",
            " 225.  42. 217. 191. 210. 214. 235. 222.  60.  35.  48. 209. 236. 195.\n",
            " 213.  23. 234.  38. 230. 203. 207. 228. 239.  26. 206. 232. 261. 262.\n",
            " 243. 227. 245. 220. 233. 224. 226. 244. 240. 249. 255. 223. 238. 237.\n",
            " 253. 252. 276.  25. 267. 248. 264. 246. 273.  21. 247. 293. 242. 270.\n",
            "   0. 251. 263. 301. 258.  24.  19. 250.  20. 241.  22. 282. 260.  17.\n",
            " 271. 268. 256. 265. 266. 259. 272. 287. 298. 274. 269. 294. 278. 257.\n",
            " 280. 283. 285. 288. 275. 284. 279. 292. 289. 286. 277.  18. 290. 281.]\n",
            "\n"
          ]
        }
      ],
      "source": [
        "# Unique values for numuric columns\n",
        "\n",
        "for (columnName, columnData) in df.items():\n",
        "        if pd.api.types.is_float_dtype(columnData):\n",
        "          print('Column Name : ', columnName)\n",
        "          print('Column unique values : ', df[columnName].unique())\n",
        "          print(end=\"\\n\")"
      ]
    },
    {
      "cell_type": "code",
      "execution_count": null,
      "metadata": {
        "colab": {
          "base_uri": "https://localhost:8080/"
        },
        "id": "_QY60scC6DzS",
        "outputId": "cfeb2d01-e6ff-4c3a-8410-fb291c0de1df"
      },
      "outputs": [
        {
          "name": "stdout",
          "output_type": "stream",
          "text": [
            "Column Name :  jobType\n",
            "Column unique values :  ['MANAGER' 'JANITOR' 'CEO' 'CTO' 'JUNIOR' 'CFO' 'VICE_PRESIDENT' 'SENIOR']\n",
            "SENIOR            113266\n",
            "VICE_PRESIDENT    112755\n",
            "CTO               112648\n",
            "JANITOR           112427\n",
            "CEO               112357\n",
            "MANAGER           112356\n",
            "JUNIOR            112196\n",
            "CFO               111995\n",
            "Name: jobType, dtype: int64\n",
            "\n",
            "Column Name :  degree\n",
            "Column unique values :  ['MASTERS' 'NONE' 'HIGH_SCHOOL' 'DOCTORAL' 'BACHELORS']\n",
            "HIGH_SCHOOL    213205\n",
            "NONE           213095\n",
            "BACHELORS      158006\n",
            "DOCTORAL       157930\n",
            "MASTERS        157764\n",
            "Name: degree, dtype: int64\n",
            "\n",
            "Column Name :  major\n",
            "Column unique values :  ['MATH' 'NONE' 'BIOLOGY' 'COMPSCI' 'CHEMISTRY' 'LITERATURE' 'BUSINESS'\n",
            " 'PHYSICS' 'ENGINEERING']\n",
            "NONE           478953\n",
            "CHEMISTRY       53052\n",
            "LITERATURE      52901\n",
            "ENGINEERING     52799\n",
            "BUSINESS        52750\n",
            "PHYSICS         52570\n",
            "BIOLOGY         52544\n",
            "COMPSCI         52456\n",
            "MATH            51975\n",
            "Name: major, dtype: int64\n",
            "\n",
            "Column Name :  industry\n",
            "Column unique values :  ['FINANCE' 'SERVICE' 'EDUCATION' 'OIL' 'WEB' 'AUTO' 'HEALTH']\n",
            "WEB          128847\n",
            "AUTO         128742\n",
            "FINANCE      128615\n",
            "OIL          128597\n",
            "EDUCATION    128433\n",
            "HEALTH       128404\n",
            "SERVICE      128362\n",
            "Name: industry, dtype: int64\n",
            "\n"
          ]
        }
      ],
      "source": [
        "# Unique values for String columns\n",
        "\n",
        "string_cols=[]\n",
        "for (columnName, columnData) in df.items():\n",
        "        if pd.api.types.is_string_dtype(columnData):\n",
        "          string_cols.append(columnName)\n",
        "          print('Column Name : ', columnName)\n",
        "          print('Column unique values : ', df[columnName].unique())\n",
        "          print(df[columnName].value_counts())\n",
        "          print(end=\"\\n\")"
      ]
    },
    {
      "cell_type": "code",
      "execution_count": null,
      "metadata": {
        "id": "5o5pkRMucY2Y"
      },
      "outputs": [],
      "source": [
        "# check for trailing whitespaces in string column data\n",
        "\n",
        "for i in string_cols:\n",
        "    df[i] = df[i].str.strip()"
      ]
    },
    {
      "cell_type": "markdown",
      "metadata": {
        "id": "uoKKIorrclPI"
      },
      "source": [
        "# Data Visualiztion"
      ]
    },
    {
      "cell_type": "markdown",
      "metadata": {
        "id": "PqpJj2_kc47V"
      },
      "source": [
        "##### jobType Column Visualization                "
      ]
    },
    {
      "cell_type": "code",
      "execution_count": null,
      "metadata": {
        "id": "LwMNWxnKcfY5"
      },
      "outputs": [],
      "source": [
        "import plotly.express as px\n",
        "import seaborn as sns\n",
        "\n",
        "# Assuming you have a DataFrame named 'df' with a column named 'jobType'\n",
        "\n",
        "fig = px.histogram(df, x='jobType')\n",
        "\n",
        "fig.update_traces(marker=dict(color='rgba(0, 123, 255, 0.7)'),\n",
        "                  marker_line=dict(color='rgba(0, 123, 255, 1)', width=1))\n",
        "\n",
        "fig.update_layout(title_text='Job Types Count', xaxis_title='Job Type', yaxis_title='Count')\n",
        "\n",
        "fig.show()\n"
      ]
    },
    {
      "cell_type": "markdown",
      "metadata": {
        "id": "U9DPsYfOgNgj"
      },
      "source": [
        "##### Plot The top ten values of salary according to jobType"
      ]
    },
    {
      "cell_type": "code",
      "execution_count": null,
      "metadata": {
        "id": "Jh4HM7hgf2nC"
      },
      "outputs": [],
      "source": [
        "fig = go.Figure()\n",
        "\n",
        "grouped_df = df.groupby('jobType')['salary'].max().reset_index()\n",
        "sorted_df = grouped_df.sort_values('salary', ascending=False).head(10)\n",
        "\n",
        "fig.add_trace(go.Bar(\n",
        "    x=sorted_df['jobType'],\n",
        "    y=sorted_df['salary'],\n",
        "    marker=dict(color='rgba(0, 123, 255, 0.7)'),\n",
        "                  marker_line=dict(color='rgba(0, 123, 255, 1)', width=1)\n",
        "))\n",
        "\n",
        "fig.update_layout(\n",
        "    xaxis=dict(title='jobType'),\n",
        "    yaxis=dict(title='salary'),\n",
        "    title='Top Ten Highest Salaries by jobType',\n",
        ")\n",
        "\n",
        "fig.show()\n"
      ]
    },
    {
      "cell_type": "code",
      "execution_count": null,
      "metadata": {
        "id": "pb4UYnwuxs2T"
      },
      "outputs": [],
      "source": [
        "# Group by jobType and calculate the mean salary\n",
        "mean_salary = df.groupby([\"jobType\"]).agg({\"salary\": \"mean\"}).reset_index()\n",
        "plt.figure(figsize=(13, 6))  # Adjust the width and height as desired\n",
        "\n",
        "# Create the Seaborn bar plot\n",
        "sns.barplot(x=\"jobType\", y=\"salary\", data=mean_salary)\n",
        "\n",
        "# Set the title and axis labels\n",
        "plt.title(\"Mean Salary Grouped by jobType\")\n",
        "plt.xlabel(\"jobType\")\n",
        "plt.ylabel(\"Mean Salary\")\n",
        "\n",
        "# Show the plot\n",
        "plt.show()\n"
      ]
    },
    {
      "cell_type": "markdown",
      "metadata": {
        "id": "Z3KjpWr2oBpf"
      },
      "source": [
        "### Major column visualization"
      ]
    },
    {
      "cell_type": "code",
      "execution_count": null,
      "metadata": {
        "id": "9z61nTkNdP9j"
      },
      "outputs": [],
      "source": [
        "fig = px.histogram(df, x='major')\n",
        "\n",
        "fig.update_traces(marker=dict(color='rgba(0, 123, 255, 0.7)'),\n",
        "                  marker_line=dict(color='rgba(0, 123, 255, 1)', width=1))\n",
        "\n",
        "fig.update_layout(title_text='Major Count', xaxis_title='Major', yaxis_title='Count')\n",
        "\n",
        "fig.show()\n"
      ]
    },
    {
      "cell_type": "code",
      "execution_count": null,
      "metadata": {
        "id": "mvrWD1wGyESc"
      },
      "outputs": [],
      "source": [
        "# Top Ten Highest Salaries by Major\n",
        "\n",
        "fig = go.Figure()\n",
        "\n",
        "grouped_df = df.groupby('major')['salary'].max().reset_index()\n",
        "sorted_df = grouped_df.sort_values('salary', ascending=False).head(10)\n",
        "\n",
        "fig.add_trace(go.Bar(\n",
        "    x=sorted_df['major'],\n",
        "    y=sorted_df['salary'],\n",
        "    marker=dict(color='rgba(0, 123, 255, 0.7)'),\n",
        "                  marker_line=dict(color='rgba(0, 123, 255, 1)', width=1),\n",
        "))\n",
        "\n",
        "fig.update_layout(\n",
        "    xaxis=dict(title='Major'),\n",
        "    yaxis=dict(title='salary'),\n",
        "    title='Top Ten Highest Salaries by Major',\n",
        ")\n",
        "\n",
        "fig.show()\n"
      ]
    },
    {
      "cell_type": "code",
      "execution_count": null,
      "metadata": {
        "id": "cBHjTyWQx76e"
      },
      "outputs": [],
      "source": [
        "# Group by Major and calculate the mean salary\n",
        "mean_salary = df.groupby([\"major\"]).agg({\"salary\": \"mean\"}).reset_index()\n",
        "plt.figure(figsize=(13, 6))  # Adjust the width and height as desired\n",
        "\n",
        "# Create the Seaborn bar plot\n",
        "sns.barplot(x=\"major\", y=\"salary\", data=mean_salary)\n",
        "\n",
        "# Set the title and axis labels\n",
        "plt.title(\"Mean Salary Grouped by major\")\n",
        "plt.xlabel(\"major\")\n",
        "plt.ylabel(\"Mean Salary\")\n",
        "\n",
        "# Show the plot\n",
        "plt.show()\n"
      ]
    },
    {
      "cell_type": "markdown",
      "metadata": {
        "id": "IiZ-kQz7yFqZ"
      },
      "source": [
        "### Degree column visualization"
      ]
    },
    {
      "cell_type": "code",
      "execution_count": null,
      "metadata": {
        "id": "3I2avLobvZHM"
      },
      "outputs": [],
      "source": [
        "fig = px.histogram(df, x='degree')\n",
        "\n",
        "fig.update_traces(marker=dict(color='rgba(0, 123, 255, 0.7)'),\n",
        "                  marker_line=dict(color='rgba(0, 123, 255, 1)', width=1))\n",
        "\n",
        "fig.update_layout(title_text='Degree Count', xaxis_title='Degree', yaxis_title='Count')\n",
        "\n",
        "fig.show()\n"
      ]
    },
    {
      "cell_type": "code",
      "execution_count": null,
      "metadata": {
        "id": "rW_AmS8pyJVu"
      },
      "outputs": [],
      "source": [
        "# Top Ten Highest Salaries by Degree\n",
        "\n",
        "import plotly.graph_objects as go\n",
        "import matplotlib.pyplot as plt\n",
        "\n",
        "# Assuming you have a DataFrame named 'df' with columns 'jobType' and 'salary'\n",
        "\n",
        "fig = go.Figure()\n",
        "\n",
        "grouped_df = df.groupby('degree')['salary'].max().reset_index()\n",
        "sorted_df = grouped_df.sort_values('salary', ascending=False).head(10)\n",
        "\n",
        "fig.add_trace(go.Bar(\n",
        "    x=sorted_df['degree'],\n",
        "    y=sorted_df['salary'],\n",
        "    marker=dict(color='rgba(0, 123, 255, 0.7)'),\n",
        "                  marker_line=dict(color='rgba(0, 123, 255, 1)', width=1),\n",
        "))\n",
        "\n",
        "fig.update_layout(\n",
        "    xaxis=dict(title='Degree'),\n",
        "    yaxis=dict(title='salary'),\n",
        "    title='Top Ten Highest Salaries by Degree',\n",
        ")\n",
        "\n",
        "fig.show()\n"
      ]
    },
    {
      "cell_type": "code",
      "execution_count": null,
      "metadata": {
        "id": "8yjqgCO9yL74"
      },
      "outputs": [],
      "source": [
        "# Group by Degree and calculate the mean salary\n",
        "mean_salary = df.groupby([\"degree\"]).agg({\"salary\": \"mean\"}).reset_index()\n",
        "plt.figure(figsize=(13, 6))  # Adjust the width and height as desired\n",
        "\n",
        "# Create the Seaborn bar plot\n",
        "sns.barplot(x=\"degree\", y=\"salary\", data=mean_salary)\n",
        "\n",
        "# Set the title and axis labels\n",
        "plt.title(\"Mean Salary Grouped by degree\")\n",
        "plt.xlabel(\"degree\")\n",
        "plt.ylabel(\"Mean Salary\")\n",
        "\n",
        "# Show the plot\n",
        "plt.show()\n"
      ]
    },
    {
      "cell_type": "code",
      "execution_count": null,
      "metadata": {
        "id": "ocIGT6lUywoL"
      },
      "outputs": [],
      "source": [
        "fig = px.histogram(df, x='industry')\n",
        "\n",
        "fig.update_traces(marker=dict(color='rgba(0, 123, 255, 0.7)'),\n",
        "                  marker_line=dict(color='rgba(0, 123, 255, 1)', width=1))\n",
        "\n",
        "fig.update_layout(title_text='Industry Count', xaxis_title='Industry', yaxis_title='Count')\n",
        "\n",
        "fig.show()\n"
      ]
    },
    {
      "cell_type": "code",
      "execution_count": null,
      "metadata": {
        "id": "xzqiya0OyXUH"
      },
      "outputs": [],
      "source": [
        "import seaborn as sns\n",
        "import matplotlib.pyplot as plt\n",
        "\n",
        "# Group by industry and find the maximum salary\n",
        "grouped_df = df.groupby('industry')['salary'].max().reset_index()\n",
        "sorted_df = grouped_df.sort_values('salary', ascending=False).head(10)\n",
        "\n",
        "# Create the Seaborn bar plot\n",
        "plt.figure(figsize=(10, 6))  # Adjust the width and height as desired\n",
        "sns.barplot(x='industry', y='salary', data=sorted_df, palette='Blues_d')\n",
        "\n",
        "# Set the title and axis labels\n",
        "plt.title('Top Ten Highest Salaries by Industry')\n",
        "plt.xlabel('Industry')\n",
        "plt.ylabel('Salary')\n",
        "\n",
        "# Rotate x-axis labels for better readability if needed\n",
        "plt.xticks(rotation=45)\n",
        "\n",
        "# Show the plot\n",
        "plt.show()\n"
      ]
    },
    {
      "cell_type": "code",
      "execution_count": null,
      "metadata": {
        "id": "zwkDJLT7yZdH",
        "collapsed": true
      },
      "outputs": [],
      "source": [
        "# Group by Industry and calculate the mean salary\n",
        "mean_salary = df.groupby([\"industry\"]).agg({\"salary\": \"mean\"}).reset_index()\n",
        "plt.figure(figsize=(13, 6))  # Adjust the width and height as desired\n",
        "\n",
        "# Create the Seaborn bar plot\n",
        "sns.barplot(x=\"industry\", y=\"salary\", data=mean_salary)\n",
        "\n",
        "# Set the title and axis labels\n",
        "plt.title(\"Mean Salary Grouped by Industry\")\n",
        "plt.xlabel(\"Industry\")\n",
        "plt.ylabel(\"Mean Salary\")\n",
        "\n",
        "# Show the plot\n",
        "plt.show()\n"
      ]
    },
    {
      "cell_type": "markdown",
      "metadata": {
        "id": "WQ-q_SOepkvx"
      },
      "source": [
        "### yearExperience column *visualization*"
      ]
    },
    {
      "cell_type": "code",
      "execution_count": null,
      "metadata": {
        "id": "iP8Ynwg_yu3B"
      },
      "outputs": [],
      "source": [
        "fig = px.scatter(df, x=\"yearsExperience\", y=\"salary\")\n",
        "fig.show()"
      ]
    },
    {
      "cell_type": "code",
      "execution_count": null,
      "metadata": {
        "id": "6Nm0i018zl-C"
      },
      "outputs": [],
      "source": [
        "sns.boxplot(data=df[['salary','yearsExperience','milesFromMetropolis']])\n"
      ]
    },
    {
      "cell_type": "code",
      "execution_count": null,
      "metadata": {
        "id": "kNZk_PNYpy4-"
      },
      "outputs": [],
      "source": [
        "import seaborn as sns\n",
        "import matplotlib.pyplot as plt\n",
        "\n",
        "# Group by yearsExperience and calculate the mean salary\n",
        "mean_salary = df.groupby([\"yearsExperience\"]).agg({\"salary\": \"mean\"}).reset_index()\n",
        "plt.figure(figsize=(13, 6))  # Adjust the width and height as desired\n",
        "\n",
        "# Create the Seaborn bar plot\n",
        "sns.barplot(x=\"yearsExperience\", y=\"salary\", data=mean_salary)\n",
        "\n",
        "# Set the title and axis labels\n",
        "plt.title(\"Mean Salary Grouped by Years of Experience\")\n",
        "plt.xlabel(\"Years of Experience\")\n",
        "plt.ylabel(\"Mean Salary\")\n",
        "\n",
        "# Show the plot\n",
        "plt.show()\n"
      ]
    },
    {
      "cell_type": "markdown",
      "metadata": {
        "id": "maBoPs3xvzA-"
      },
      "source": [
        "#### Correlation heatmab\n",
        "\n",
        "\n",
        "\n"
      ]
    },
    {
      "cell_type": "code",
      "execution_count": null,
      "metadata": {
        "id": "HZTV5eepvx4V"
      },
      "outputs": [],
      "source": [
        "# correlation heatmab to show the correlation between columns\n",
        "\n",
        "correlation_mat = df.corr()\n",
        "sns.heatmap(correlation_mat, annot = True)\n",
        "plt.show()"
      ]
    },
    {
      "cell_type": "markdown",
      "metadata": {
        "id": "oHzgliUVb2rd"
      },
      "source": [
        "## Modeling"
      ]
    },
    {
      "cell_type": "code",
      "execution_count": null,
      "metadata": {
        "id": "1UEgQn5NzjuC"
      },
      "outputs": [],
      "source": [
        "df=df.drop(['jobId'], axis=1)"
      ]
    },
    {
      "cell_type": "code",
      "execution_count": null,
      "metadata": {
        "id": "T_2OndaOGUik"
      },
      "outputs": [],
      "source": [
        "# Define features and target\n",
        "X = df.drop('salary', axis=1)\n",
        "y = df['salary']\n",
        "pipelines={}\n",
        "df['companyId'] = df['companyId'].replace('COMP','', regex=True)\n",
        "\n",
        "df['companyId'] = df['companyId'].astype(float)\n",
        "# Define categorical and numerical features\n",
        "categorical_features = ['jobType', 'degree', 'major', 'industry']\n",
        "numerical_features   = ['companyId','yearsExperience' , 'milesFromMetropolis']\n",
        "\n",
        "# Preprocessing for numerical data\n",
        "numerical_transformer = StandardScaler()\n",
        "\n",
        "# Preprocessing for categorical data\n",
        "categorical_transformer = OneHotEncoder(handle_unknown='ignore')\n",
        "\n",
        "# Bundle preprocessing for numerical and categorical data\n",
        "preprocessor = ColumnTransformer(\n",
        "    transformers=[\n",
        "        ('num', numerical_transformer, numerical_features),\n",
        "        ('cat', categorical_transformer, categorical_features)])\n",
        "\n",
        "# Define models\n",
        "models = [\n",
        "\n",
        "    ('XGBoost', XGBRegressor()),\n",
        "    ('LightGBM', LGBMRegressor()),\n",
        "    ('Linear Regression', LinearRegression()),\n",
        "]\n",
        "\n",
        "# Split the data\n",
        "X_train, X_test, y_train, y_test = train_test_split(X, y, test_size=0.2, random_state=0)\n",
        "\n",
        "targetScaler=MinMaxScaler()\n",
        "y_train=targetScaler.fit_transform(y_train.values.reshape(-1, 1))\n",
        "y_test=targetScaler.transform(y_test.values.reshape(-1,1))\n",
        "# To save mse for each model\n",
        "model_errors = {}\n",
        "\n",
        "# Preprocess, train and evaluate each model\n",
        "for model_name, model in models:\n",
        "    print(f'Training {model_name}...')\n",
        "    # Create and fit the pipeline for each model\n",
        "    pipeline = Pipeline(steps=[('preprocessor', preprocessor),\n",
        "                               ('model', model)])\n",
        "    pipeline.fit(X_train, y_train)\n",
        "    pipelines.update({model_name: pipeline})\n",
        "    # Make predictions\n",
        "    y_pred = pipeline.predict(X_test)\n",
        "    # Compute MSE\n",
        "    mse = mean_squared_error(y_test, y_pred)\n",
        "    # Save the error for each model\n",
        "    model_errors[model_name] = mse\n",
        "    print(f'{model_name} MSE: {mse}')\n",
        "\n",
        "# Print the model with the least MSE\n",
        "best_model = min(model_errors, key=model_errors.get)\n",
        "print(f'\\nThe best model is {best_model} with MSE: {model_errors[best_model]}')\n"
      ]
    },
    {
      "cell_type": "markdown",
      "metadata": {
        "id": "VQmz3SN9sDdE"
      },
      "source": [
        "## Save models"
      ]
    },
    {
      "cell_type": "code",
      "execution_count": null,
      "metadata": {
        "id": "pko7f12u0tC6"
      },
      "outputs": [],
      "source": [
        "pickle.dump(pipelines, open('/content/drive/MyDrive/models/Modell.pkl', 'wb'))\n"
      ]
    },
    {
      "cell_type": "markdown",
      "metadata": {
        "id": "8v7JWZlN2_qx"
      },
      "source": [
        "### Feature importance for each model"
      ]
    },
    {
      "cell_type": "code",
      "execution_count": null,
      "metadata": {
        "id": "FP11l1qd277G"
      },
      "outputs": [],
      "source": [
        "# Get the feature names\n",
        "feature_names = pipelines['XGBoost'][:-1].get_feature_names_out()\n",
        "\n",
        "# Get the feature importances\n",
        "feature_importances = pipelines['XGBoost'].steps[-1][-1].feature_importances_\n",
        "\n",
        "# Create the horizontal bar plot\n",
        "fig = go.Figure(data=go.Bar(\n",
        "    x=feature_importances,\n",
        "    y=feature_names,\n",
        "    orientation='h'\n",
        "))\n",
        "\n",
        "# Update the layout\n",
        "fig.update_layout(\n",
        "    title='Feature Importances - XGBoost Model',\n",
        "    xaxis_title='Importance',\n",
        "    yaxis_title='Features'\n",
        ")\n",
        "\n",
        "# Show the plot\n",
        "fig.show()\n"
      ]
    },
    {
      "cell_type": "code",
      "execution_count": null,
      "metadata": {
        "id": "ioq_-m4MM1nk"
      },
      "outputs": [],
      "source": [
        "# Get the feature names\n",
        "feature_names = pipelines['LightGBM'][:-1].get_feature_names_out()\n",
        "# Get the feature importances\n",
        "feature_importances = pipelines['LightGBM'].steps[-1][-1].feature_importances_\n",
        "\n",
        "# Create the horizontal bar plot\n",
        "fig = go.Figure(data=go.Bar(\n",
        "    x=feature_importances,\n",
        "    y=feature_names,\n",
        "    orientation='h'\n",
        "))\n",
        "# Update the layout\n",
        "fig.update_layout(\n",
        "    title='Feature Importances - LightGBM Model',\n",
        "    xaxis_title='Importance',\n",
        "    yaxis_title='Features'\n",
        ")\n",
        "\n",
        "# Show the plot\n",
        "fig.show()\n"
      ]
    },
    {
      "cell_type": "code",
      "execution_count": null,
      "metadata": {
        "id": "YAniM0VzPED2"
      },
      "outputs": [],
      "source": [
        "import plotly.graph_objects as go\n",
        "\n",
        "# Assuming pipelines is a dictionary containing the trained models\n",
        "coefficients_list=[]\n",
        "# Get the feature names\n",
        "feature_names = pipelines['Linear Regression'][0].transformers_[1][1].get_feature_names_out()\n",
        "# Get the feature importances for Linear Regression\n",
        "if 'Linear Regression' in pipelines:\n",
        "    lr_model = pipelines['Linear Regression'][1]\n",
        "    coefficients = lr_model.coef_\n",
        "    for i in coefficients:\n",
        "      for j in i :\n",
        "        coefficients_list.append(j)\n",
        "\n",
        "    # Create the horizontal bar plot for Linear Regression\n",
        "    fig_lr = go.Figure(data=go.Bar(\n",
        "        x=coefficients_list,\n",
        "        y=feature_names,\n",
        "        orientation='h'\n",
        "    ))\n",
        "\n",
        "    # Update the layout for Linear Regression\n",
        "    fig_lr.update_layout(\n",
        "        title='Feature Importances - Linear Regression Model',\n",
        "        xaxis_title='Coefficient',\n",
        "        yaxis_title='Features'\n",
        "    )\n",
        "\n",
        "    # Show the plot for Linear Regression\n",
        "    fig_lr.show()\n"
      ]
    },
    {
      "cell_type": "markdown",
      "metadata": {
        "id": "pN_BJgAK2HON"
      },
      "source": [
        "## Deep Learning Model"
      ]
    },
    {
      "cell_type": "code",
      "execution_count": null,
      "metadata": {
        "id": "m5-8HzTNWaqW"
      },
      "outputs": [],
      "source": [
        "# Step 1: Perform one-hot encoding on categorical features (Role, Degree, Field, Specialization)\n",
        "y=df['salary']\n",
        "\n",
        "categorical_features = ['jobType',\t'degree','major',\t'industry']\n",
        "encoder = OneHotEncoder(sparse=False)\n",
        "encoded_features = encoder.fit_transform(df[categorical_features])\n",
        "encoded_df = pd.DataFrame(encoded_features, columns=encoder.get_feature_names_out(categorical_features))\n",
        "\n",
        "\n",
        "# Step 2: Scale numerical features (Experience1, Experience2) using StandardScaler\n",
        "\n",
        "\n",
        "numerical_features = ['yearsExperience', 'milesFromMetropolis']\n",
        "scaler = StandardScaler()\n",
        "scaled_features = scaler.fit_transform(df[numerical_features])\n",
        "scaled_df = pd.DataFrame(scaled_features, columns=numerical_features)\n",
        "\n",
        "\n",
        "# Step 3: Concatenate encoded and scaled features into a single DataFrame\n",
        "\n",
        "processed_data = pd.concat([encoded_df, scaled_df], axis=1)\n",
        "\n",
        "\n",
        "# Step 4: Split the data into training and testing sets for model training and evaluation\n",
        "\n",
        "X_train, X_test, y_train, y_test = train_test_split(processed_data, y, test_size=0.2, random_state=42)\n",
        "\n",
        "targetScaler=MinMaxScaler()\n",
        "y_train=targetScaler.fit_transform(y_train.values.reshape(-1, 1))\n",
        "y_test=targetScaler.transform(y_test.values.reshape(-1,1))\n",
        "# Step 5: Build a deep learning model using Keras\n",
        "\n",
        "model = Sequential()\n",
        "model.add(Dense(64, activation='relu', input_shape=(processed_data.shape[1],)))\n",
        "model.add(Dense(32, activation='relu'))\n",
        "model.add(Dense(1))\n",
        "\n",
        "model.compile(optimizer='adam', loss='mean_squared_error', metrics='accuracy')\n",
        "\n",
        "model.fit(X_train, y_train, epochs=60, batch_size=32)\n",
        "\n",
        "# Step 6: Evaluate the model on the test set and make predictions\n",
        "\n",
        "loss = model.evaluate(X_test, y_test)\n",
        "predictions = model.predict(X_test)\n",
        "\n",
        "print(\"Test Loss:\", loss)\n",
        "print(\"Predictions:\", predictions)\n"
      ]
    },
    {
      "cell_type": "code",
      "execution_count": null,
      "metadata": {
        "id": "l8tTodpOdDT1"
      },
      "outputs": [],
      "source": [
        "# Get the weights of the model's layers\n",
        "weights = model.get_weights()\n",
        "\n",
        "# Calculate the feature importance\n",
        "feature_importance = np.abs(weights[0]).sum(axis=1)\n",
        "\n",
        "# Normalize feature importance to sum up to 1\n",
        "feature_importance /= feature_importance.sum()\n",
        "\n",
        "# Sort the features based on importance in descending order\n",
        "sorted_features = X_train.columns[np.argsort(feature_importance)[::-1]]\n",
        "\n",
        "# Create a bar plot of feature importance using Seaborn\n",
        "plt.figure(figsize=(10, 6))  # Set the figure size\n",
        "sns.barplot(x=feature_importance, y=sorted_features, orient='h')\n",
        "plt.title(\"Feature Importance for Deep Learning Model\")\n",
        "plt.xlabel(\"Feature Importance\")\n",
        "plt.ylabel(\"Features\")\n",
        "\n",
        "# Show the plot\n",
        "plt.show()"
      ]
    },
    {
      "cell_type": "markdown",
      "metadata": {
        "id": "nBNHj9hItaIo"
      },
      "source": [
        "###  Save the deep learning model\n"
      ]
    },
    {
      "cell_type": "code",
      "execution_count": null,
      "metadata": {
        "id": "pfk_gDc3taW-"
      },
      "outputs": [],
      "source": [
        "# # Save the model\n",
        "model.save('/content/drive/MyDrive/models/deep_learning_model.h5')\n"
      ]
    },
    {
      "cell_type": "markdown",
      "metadata": {
        "id": "EJAWEgKSu1aM"
      },
      "source": [
        "# Second Section"
      ]
    },
    {
      "cell_type": "code",
      "execution_count": null,
      "metadata": {
        "id": "9fUnzL0G2sQL"
      },
      "outputs": [],
      "source": [
        "def predict_from_csv(csv_path, model_path):\n",
        "\n",
        "    # Load the trained model\n",
        "    with open(model_path, 'rb') as f:\n",
        "       model = pickle.load(f)\n",
        "\n",
        "    # Read the CSV file into a pandas DataFrame\n",
        "    new_data=pd.read_csv(csv_path)\n",
        "\n",
        "    # LightGBM is the best model to predict ,it has min loss value\n",
        "    best_pipeline = pipelines['LightGBM']\n",
        "\n",
        "    # Preprocess the new data\n",
        "    new_data_processed = best_pipeline['preprocessor'].transform(new_data)\n",
        "\n",
        "    # Make predictions using the best model\n",
        "    predictions = best_pipeline['model'].predict(new_data_processed)\n",
        "\n",
        "    # Print the predictions\n",
        "    print(\"Predictions on new data:\")\n",
        "    print(predictions)\n",
        "    print(end=\"\\n\")\n",
        "    inverse_predictions = targetScaler.inverse_transform(predictions.reshape(-1, 1))\n",
        "    print(\"Inverse transformed predictions:\")\n",
        "    print(inverse_predictions)"
      ]
    },
    {
      "cell_type": "code",
      "execution_count": null,
      "metadata": {
        "colab": {
          "base_uri": "https://localhost:8080/"
        },
        "id": "7x_OQc8caeMi",
        "outputId": "f3c72bb3-af35-480a-9693-e2543123acfb"
      },
      "outputs": [
        {
          "name": "stdout",
          "output_type": "stream",
          "text": [
            "Predictions on new data:\n",
            "[0.56016418 0.25058354 0.34248355 0.26456544 0.52397236 0.53904221\n",
            " 0.59249877 0.36238583 0.28580006]\n",
            "\n",
            "Inverse transformed predictions:\n",
            "[[168.60941859]\n",
            " [ 75.4256448 ]\n",
            " [103.08754821]\n",
            " [ 79.63419808]\n",
            " [157.71568015]\n",
            " [162.25170433]\n",
            " [178.34213014]\n",
            " [109.0781353 ]\n",
            " [ 86.02581661]]\n"
          ]
        }
      ],
      "source": [
        "predict_from_csv('/content/new_test_csv.csv','/content/drive/MyDrive/models/Modell.pkl')"
      ]
    },
    {
      "cell_type": "code",
      "execution_count": null,
      "metadata": {
        "id": "G8dNPzARVkns"
      },
      "outputs": [],
      "source": []
    }
  ],
  "metadata": {
    "colab": {
      "provenance": []
    },
    "kernelspec": {
      "display_name": "Python 3",
      "name": "python3"
    },
    "language_info": {
      "name": "python"
    }
  },
  "nbformat": 4,
  "nbformat_minor": 0
}